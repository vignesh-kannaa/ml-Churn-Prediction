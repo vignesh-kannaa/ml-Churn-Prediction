{
 "cells": [
  {
   "cell_type": "code",
   "execution_count": 1,
   "id": "03c54d7b",
   "metadata": {},
   "outputs": [],
   "source": [
    "import pandas as pd\n",
    "import numpy as np\n",
    "import seaborn as sns\n",
    "import matplotlib.pyplot as plt\n",
    "import warnings\n",
    "import os\n",
    "\n",
    "from sklearn.model_selection import train_test_split, KFold, cross_val_score, GridSearchCV\n",
    "from sklearn.compose import ColumnTransformer\n",
    "from sklearn.impute import SimpleImputer\n",
    "from sklearn.pipeline import Pipeline\n",
    "from sklearn.preprocessing import OneHotEncoder,StandardScaler\n",
    "from imblearn.under_sampling import RandomUnderSampler\n",
    "from sklearn.tree import DecisionTreeClassifier\n",
    "from sklearn.metrics import confusion_matrix, ConfusionMatrixDisplay, classification_report,f1_score, accuracy_score,roc_curve,roc_auc_score\n",
    "from sklearn.linear_model import LogisticRegression\n",
    "from sklearn.svm import SVC\n",
    "from sklearn.tree import DecisionTreeClassifier\n",
    "from sklearn.naive_bayes import GaussianNB\n",
    "from sklearn.neighbors import KNeighborsClassifier\n",
    "from sklearn.ensemble import RandomForestClassifier\n",
    "from xgboost import XGBClassifier\n",
    "import pickle"
   ]
  },
  {
   "cell_type": "code",
   "execution_count": 2,
   "id": "210c27cf",
   "metadata": {},
   "outputs": [
    {
     "data": {
      "text/html": [
       "<div>\n",
       "<style scoped>\n",
       "    .dataframe tbody tr th:only-of-type {\n",
       "        vertical-align: middle;\n",
       "    }\n",
       "\n",
       "    .dataframe tbody tr th {\n",
       "        vertical-align: top;\n",
       "    }\n",
       "\n",
       "    .dataframe thead th {\n",
       "        text-align: right;\n",
       "    }\n",
       "</style>\n",
       "<table border=\"1\" class=\"dataframe\">\n",
       "  <thead>\n",
       "    <tr style=\"text-align: right;\">\n",
       "      <th></th>\n",
       "      <th>customer_id</th>\n",
       "      <th>credit_score</th>\n",
       "      <th>country</th>\n",
       "      <th>gender</th>\n",
       "      <th>age</th>\n",
       "      <th>tenure</th>\n",
       "      <th>balance</th>\n",
       "      <th>products_number</th>\n",
       "      <th>credit_card</th>\n",
       "      <th>active_member</th>\n",
       "      <th>estimated_salary</th>\n",
       "      <th>churn</th>\n",
       "    </tr>\n",
       "  </thead>\n",
       "  <tbody>\n",
       "    <tr>\n",
       "      <th>0</th>\n",
       "      <td>15634602</td>\n",
       "      <td>619</td>\n",
       "      <td>France</td>\n",
       "      <td>Female</td>\n",
       "      <td>42</td>\n",
       "      <td>2</td>\n",
       "      <td>0.00</td>\n",
       "      <td>1</td>\n",
       "      <td>1</td>\n",
       "      <td>1</td>\n",
       "      <td>101348.88</td>\n",
       "      <td>1</td>\n",
       "    </tr>\n",
       "    <tr>\n",
       "      <th>1</th>\n",
       "      <td>15647311</td>\n",
       "      <td>608</td>\n",
       "      <td>Spain</td>\n",
       "      <td>Female</td>\n",
       "      <td>41</td>\n",
       "      <td>1</td>\n",
       "      <td>83807.86</td>\n",
       "      <td>1</td>\n",
       "      <td>0</td>\n",
       "      <td>1</td>\n",
       "      <td>112542.58</td>\n",
       "      <td>0</td>\n",
       "    </tr>\n",
       "    <tr>\n",
       "      <th>2</th>\n",
       "      <td>15619304</td>\n",
       "      <td>502</td>\n",
       "      <td>France</td>\n",
       "      <td>Female</td>\n",
       "      <td>42</td>\n",
       "      <td>8</td>\n",
       "      <td>159660.80</td>\n",
       "      <td>3</td>\n",
       "      <td>1</td>\n",
       "      <td>0</td>\n",
       "      <td>113931.57</td>\n",
       "      <td>1</td>\n",
       "    </tr>\n",
       "    <tr>\n",
       "      <th>3</th>\n",
       "      <td>15701354</td>\n",
       "      <td>699</td>\n",
       "      <td>France</td>\n",
       "      <td>Female</td>\n",
       "      <td>39</td>\n",
       "      <td>1</td>\n",
       "      <td>0.00</td>\n",
       "      <td>2</td>\n",
       "      <td>0</td>\n",
       "      <td>0</td>\n",
       "      <td>93826.63</td>\n",
       "      <td>0</td>\n",
       "    </tr>\n",
       "    <tr>\n",
       "      <th>4</th>\n",
       "      <td>15737888</td>\n",
       "      <td>850</td>\n",
       "      <td>Spain</td>\n",
       "      <td>Female</td>\n",
       "      <td>43</td>\n",
       "      <td>2</td>\n",
       "      <td>125510.82</td>\n",
       "      <td>1</td>\n",
       "      <td>1</td>\n",
       "      <td>1</td>\n",
       "      <td>79084.10</td>\n",
       "      <td>0</td>\n",
       "    </tr>\n",
       "  </tbody>\n",
       "</table>\n",
       "</div>"
      ],
      "text/plain": [
       "   customer_id  credit_score country  gender  age  tenure    balance  \\\n",
       "0     15634602           619  France  Female   42       2       0.00   \n",
       "1     15647311           608   Spain  Female   41       1   83807.86   \n",
       "2     15619304           502  France  Female   42       8  159660.80   \n",
       "3     15701354           699  France  Female   39       1       0.00   \n",
       "4     15737888           850   Spain  Female   43       2  125510.82   \n",
       "\n",
       "   products_number  credit_card  active_member  estimated_salary  churn  \n",
       "0                1            1              1         101348.88      1  \n",
       "1                1            0              1         112542.58      0  \n",
       "2                3            1              0         113931.57      1  \n",
       "3                2            0              0          93826.63      0  \n",
       "4                1            1              1          79084.10      0  "
      ]
     },
     "execution_count": 2,
     "metadata": {},
     "output_type": "execute_result"
    }
   ],
   "source": [
    "df = pd.read_csv('data/churndata.csv')\n",
    "df.head()"
   ]
  },
  {
   "cell_type": "markdown",
   "id": "5a8d908e",
   "metadata": {},
   "source": [
    "Splitting data into features and target"
   ]
  },
  {
   "cell_type": "code",
   "execution_count": 3,
   "id": "3160ca92",
   "metadata": {},
   "outputs": [],
   "source": [
    "df_features = df.iloc[:,:-1]\n",
    "df_target = df.iloc[:,-1]"
   ]
  },
  {
   "cell_type": "markdown",
   "id": "e89001c4",
   "metadata": {},
   "source": [
    "Splitting dataset into training and testing to test the model performance"
   ]
  },
  {
   "cell_type": "code",
   "execution_count": 4,
   "id": "7e6b0a48",
   "metadata": {},
   "outputs": [],
   "source": [
    "# splitting the dataset into train and test\n",
    "X_train, X_test, y_train, y_test = train_test_split(df_features, df_target, test_size=0.2, random_state=42)\n",
    "X_train, X_val, y_train, y_val = train_test_split(X_train, y_train, test_size=0.1, random_state=42)"
   ]
  },
  {
   "cell_type": "markdown",
   "id": "e960a306",
   "metadata": {},
   "source": [
    "### Feature Selection"
   ]
  },
  {
   "cell_type": "markdown",
   "id": "77776c3f",
   "metadata": {},
   "source": [
    "Selecting only the features that are necessary for model to predict.  We can remove customer id since this is random generated for unique id"
   ]
  },
  {
   "cell_type": "code",
   "execution_count": 5,
   "id": "46433cee",
   "metadata": {},
   "outputs": [],
   "source": [
    "df_features = df_features.drop('customer_id', axis=1)"
   ]
  },
  {
   "cell_type": "code",
   "execution_count": 6,
   "id": "471df8ab",
   "metadata": {},
   "outputs": [],
   "source": [
    "numerical_columns = [\"credit_score\", \"age\",\"tenure\",\"balance\",\"products_number\",\"credit_card\",\"active_member\",\"estimated_salary\"]\n",
    "categorical_columns = [\"gender\",\"country\"]"
   ]
  },
  {
   "cell_type": "code",
   "execution_count": 7,
   "id": "f69e7770",
   "metadata": {},
   "outputs": [],
   "source": [
    "num_pipeline = Pipeline(\n",
    "    steps=[\n",
    "        (\"imputer\", SimpleImputer(strategy=\"median\")),\n",
    "        (\"scaler\", StandardScaler())\n",
    "    ]\n",
    ")\n",
    "\n",
    "cat_pipeline = Pipeline(\n",
    "    steps=[\n",
    "        (\"imputer\", SimpleImputer(strategy=\"most_frequent\")),\n",
    "        (\"one_hot_encoder\", OneHotEncoder()),\n",
    "        (\"scaler\", StandardScaler(with_mean=False))\n",
    "    ]\n",
    "\n",
    ")\n",
    "\n",
    "preprocessor = ColumnTransformer(\n",
    "    [\n",
    "        (\"num_pipeline\", num_pipeline, numerical_columns),\n",
    "        (\"cat_pipelines\", cat_pipeline, categorical_columns)\n",
    "\n",
    "    ]\n",
    ")"
   ]
  },
  {
   "cell_type": "code",
   "execution_count": 8,
   "id": "9a779a3a",
   "metadata": {},
   "outputs": [],
   "source": [
    "X_train = preprocessor.fit_transform(X_train)\n",
    "X_val = preprocessor.transform(X_val)"
   ]
  },
  {
   "cell_type": "code",
   "execution_count": 9,
   "id": "a3569eac",
   "metadata": {},
   "outputs": [],
   "source": [
    "os.makedirs('pickle', exist_ok=True)\n",
    "preprocessor_file_path = os.path.join(\"pickle\", \"preprocessor.pkl\")\n",
    "\n",
    "with open(preprocessor_file_path, \"wb\") as file:\n",
    "    pickle.dump(preprocessor, file)"
   ]
  },
  {
   "cell_type": "code",
   "execution_count": 10,
   "id": "1af16c2e",
   "metadata": {},
   "outputs": [
    {
     "name": "stdout",
     "output_type": "stream",
     "text": [
      "Before undersampling: 5709, 1491\n",
      "After undersampling: 1491, 1491\n"
     ]
    }
   ],
   "source": [
    "rus = RandomUnderSampler(random_state=42)\n",
    "print(f\"Before undersampling: {sum(y_train==0)}, {sum(y_train==1)}\")\n",
    "X_train, y_train = rus.fit_resample(X_train, y_train)\n",
    "print(f\"After undersampling: {sum(y_train==0)}, {sum(y_train==1)}\")"
   ]
  },
  {
   "cell_type": "markdown",
   "id": "851edca5",
   "metadata": {},
   "source": [
    "### Preliminary modelling"
   ]
  },
  {
   "cell_type": "code",
   "execution_count": 11,
   "id": "ac9311dd",
   "metadata": {},
   "outputs": [],
   "source": [
    "#defining all necessary models for classification\n",
    "\n",
    "def getBaseModels():\n",
    "    baseModels = []\n",
    "    baseModels.append(('LR', LogisticRegression()))\n",
    "    baseModels.append(('XGB', XGBClassifier()))\n",
    "    baseModels.append(('DT', DecisionTreeClassifier()))\n",
    "    baseModels.append(('NB', GaussianNB()))\n",
    "    baseModels.append(('SVC', SVC(probability=True)))\n",
    "    baseModels.append(('RF', RandomForestClassifier()))\n",
    "    return baseModels"
   ]
  },
  {
   "cell_type": "code",
   "execution_count": 12,
   "id": "41223a0a",
   "metadata": {},
   "outputs": [],
   "source": [
    "#using k-fold on training data to evaluate the model accuracy\n",
    "\n",
    "def validatemodels(df_feature,df_target):\n",
    "    models = getBaseModels()\n",
    "    modelScores = []\n",
    "    modelStd = []\n",
    "    modelNameList = []\n",
    "    for name, model in models:\n",
    "        cv = KFold(n_splits=10, random_state=42, shuffle=True)\n",
    "        cv_results = cross_val_score(model,X_train, y_train,cv=cv,scoring=\"accuracy\", error_score=\"raise\")\n",
    "        modelScores.append(cv_results.mean()*100)\n",
    "        modelNameList.append(name)\n",
    "        modelStd.append(cv_results.std())\n",
    "\n",
    "    modelScores = np.round(modelScores, 2)\n",
    "    modelStd = np.round(modelStd, 2)\n",
    "    modelResult = pd.DataFrame({\n",
    "        'Models': modelNameList,\n",
    "        'Scores': modelScores,\n",
    "        'σ': modelStd\n",
    "    })\n",
    "    print(modelResult.sort_values(by=['Scores', 'σ'], ascending=False))\n",
    "    #visualing the models performance\n",
    "    plt.title('Algorithm Comparison')\n",
    "    ax=sns.barplot(y=modelScores, x=modelNameList)\n",
    "    ax.bar_label(ax.containers[0])\n",
    "    plt.show()"
   ]
  },
  {
   "cell_type": "code",
   "execution_count": 13,
   "id": "c6d15041",
   "metadata": {},
   "outputs": [
    {
     "name": "stdout",
     "output_type": "stream",
     "text": [
      "  Models  Scores     σ\n",
      "4    SVC   76.26  0.02\n",
      "5     RF   75.76  0.02\n",
      "1    XGB   74.55  0.01\n",
      "3     NB   70.99  0.03\n",
      "0     LR   70.35  0.03\n",
      "2     DT   69.78  0.02\n"
     ]
    },
    {
     "data": {
      "image/png": "[encoded data removed]",
      "text/plain": [
       "<Figure size 640x480 with 1 Axes>"
      ]
     },
     "metadata": {},
     "output_type": "display_data"
    }
   ],
   "source": [
    "validatemodels(X_train,y_train)"
   ]
  },
  {
   "cell_type": "markdown",
   "id": "4ec881d8",
   "metadata": {},
   "source": [
    "### Model Tuning\n",
    "\n",
    "Tuning the hyperparameters of the model to increase model's performance and to make the prediction more generalizable. \n",
    "Using GridSearchCV, finding optimal parameters from given set"
   ]
  },
  {
   "cell_type": "code",
   "execution_count": 16,
   "id": "9387b8f0",
   "metadata": {},
   "outputs": [],
   "source": [
    "# function to use gridsearch for all the models\n",
    "\n",
    "def gridSearchFunction(model,name, params, cv, X_train, y_train, X_val, y_val):\n",
    "    gs = GridSearchCV(model, params, scoring='accuracy', n_jobs=-1, cv=cv)\n",
    "    result = gs.fit(X_train, y_train)\n",
    "    best_model = result.best_estimator_\n",
    "    y_predict = best_model.predict(X_val)\n",
    "    accuracy = accuracy_score(y_val, y_predict)\n",
    "    y_pred_proba = best_model.predict_proba(X_val)[:, 1]\n",
    "    roc_auc = roc_auc_score(y_val, y_pred_proba)\n",
    "    f1 = f1_score(y_val, y_predict)\n",
    "    print(name)\n",
    "    print(classification_report(y_val, y_predict))\n",
    "    print('AUC score: ', np.round(roc_auc,2))\n",
    "    print('Best Hyperparameters: ', result.best_params_)\n",
    "    return gs.best_params_"
   ]
  },
  {
   "cell_type": "code",
   "execution_count": 17,
   "id": "b93f3ed9",
   "metadata": {},
   "outputs": [
    {
     "name": "stdout",
     "output_type": "stream",
     "text": [
      "Random Forest\n",
      "              precision    recall  f1-score   support\n",
      "\n",
      "           0       0.93      0.80      0.86       647\n",
      "           1       0.48      0.76      0.58       153\n",
      "\n",
      "    accuracy                           0.79       800\n",
      "   macro avg       0.70      0.78      0.72       800\n",
      "weighted avg       0.85      0.79      0.81       800\n",
      "\n",
      "AUC score:  0.87\n",
      "Best Hyperparameters:  {'max_depth': 8, 'max_features': 8, 'min_samples_split': 7, 'n_estimators': 50}\n"
     ]
    }
   ],
   "source": [
    "# Random Forest\n",
    "cv = 5\n",
    "\n",
    "max_depth = [3, 5, 6, 7, 8]\n",
    "max_features = [2,4,6,7,8,9]\n",
    "n_estimators = [50,100]\n",
    "min_samples_split = [3, 5, 6, 7]\n",
    "\n",
    "param_grid = dict(max_depth=max_depth, max_features=max_features, n_estimators=n_estimators,min_samples_split=min_samples_split)\n",
    "\n",
    "model = RandomForestClassifier()\n",
    "bestParams = gridSearchFunction(model,'Random Forest', param_grid, cv, X_train, y_train, X_val, y_val)"
   ]
  },
  {
   "cell_type": "code",
   "execution_count": 18,
   "id": "f7eb5741",
   "metadata": {},
   "outputs": [],
   "source": [
    "# # SVC\n",
    "\n",
    "# C = [1, 5, 10, 11, 14, 15, 18, 19, 20]\n",
    "# kernel = ['linear', 'poly', 'rbf', 'sigmoid']\n",
    "# gamma = ['scale', 'auto']\n",
    "# degree = [4, 5, 10, 20]\n",
    "# param_grid = dict(C = C, kernel= kernel,gamma=gamma,degree=degree)\n",
    "\n",
    "# model = SVC(probability=True)\n",
    "# bestParams = gridSearchFunction(model, 'SVC',param_grid, cv, X_train, y_train, X_val, y_val)"
   ]
  },
  {
   "cell_type": "markdown",
   "id": "720cbc64",
   "metadata": {},
   "source": [
    "our primary objective is to predict customers who are likely to churn. This will allow me to implement specific strategies or schemes to prevent churn. Therefore, the recall measures on the positive class (churned customers) hold greater significance to me than the overall accuracy score of the model."
   ]
  },
  {
   "cell_type": "code",
   "execution_count": 19,
   "id": "1bb55975",
   "metadata": {},
   "outputs": [
    {
     "data": {
      "text/plain": [
       "RandomForestClassifier(max_depth=8, max_features=8, min_samples_split=7,\n",
       "                       n_estimators=50)"
      ]
     },
     "execution_count": 19,
     "metadata": {},
     "output_type": "execute_result"
    }
   ],
   "source": [
    "# Initializing the model using the parameters obtained through hyperparameter tuning.\n",
    "\n",
    "model = RandomForestClassifier(max_depth = 8, max_features= 8, min_samples_split= 7, n_estimators= 50)\n",
    "model.fit(X_train, y_train)"
   ]
  },
  {
   "cell_type": "markdown",
   "id": "34573add",
   "metadata": {},
   "source": [
    "Testing model performance on the test dataset"
   ]
  },
  {
   "cell_type": "code",
   "execution_count": 20,
   "id": "c0e6d5c4",
   "metadata": {},
   "outputs": [],
   "source": [
    "X_test = preprocessor.transform(X_test)"
   ]
  },
  {
   "cell_type": "code",
   "execution_count": 21,
   "id": "d6c7cb4e",
   "metadata": {},
   "outputs": [
    {
     "data": {
      "text/plain": [
       "<sklearn.metrics._plot.confusion_matrix.ConfusionMatrixDisplay at 0x22c512e2220>"
      ]
     },
     "execution_count": 21,
     "metadata": {},
     "output_type": "execute_result"
    },
    {
     "data": {
      "image/png": "[encoded data removed]",
      "text/plain": [
       "<Figure size 640x480 with 2 Axes>"
      ]
     },
     "metadata": {},
     "output_type": "display_data"
    }
   ],
   "source": [
    "y_pred = model.predict(X_test)\n",
    "cm = confusion_matrix(y_test, y_pred)\n",
    "ConfusionMatrixDisplay(confusion_matrix=cm).plot(cmap='Blues')"
   ]
  },
  {
   "cell_type": "code",
   "execution_count": 22,
   "id": "6621c0c3",
   "metadata": {},
   "outputs": [],
   "source": [
    "model_file_path = os.path.join(\"pickle\", \"model.pkl\")\n",
    "\n",
    "with open(model_file_path, \"wb\") as file:\n",
    "    pickle.dump(model, file)"
   ]
  },
  {
   "cell_type": "code",
   "execution_count": null,
   "id": "d1da2d00",
   "metadata": {},
   "outputs": [],
   "source": []
  }
 ],
 "metadata": {
  "kernelspec": {
   "display_name": "Python 3 (ipykernel)",
   "language": "python",
   "name": "python3"
  },
  "language_info": {
   "codemirror_mode": {
    "name": "ipython",
    "version": 3
   },
   "file_extension": ".py",
   "mimetype": "text/x-python",
   "name": "python",
   "nbconvert_exporter": "python",
   "pygments_lexer": "ipython3",
   "version": "3.9.16"
  }
 },
 "nbformat": 4,
 "nbformat_minor": 5
}
